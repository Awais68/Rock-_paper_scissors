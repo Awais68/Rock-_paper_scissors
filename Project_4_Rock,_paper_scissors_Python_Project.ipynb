{
  "nbformat": 4,
  "nbformat_minor": 0,
  "metadata": {
    "colab": {
      "provenance": [],
      "authorship_tag": "ABX9TyNVY8PTlE0mdmAYO3OFGmjh",
      "include_colab_link": true
    },
    "kernelspec": {
      "name": "python3",
      "display_name": "Python 3"
    },
    "language_info": {
      "name": "python"
    }
  },
  "cells": [
    {
      "cell_type": "markdown",
      "metadata": {
        "id": "view-in-github",
        "colab_type": "text"
      },
      "source": [
        "<a href=\"https://colab.research.google.com/github/Awais68/Rock-_paper_scissors/blob/main/Project_4_Rock%2C_paper_scissors_Python_Project.ipynb\" target=\"_parent\"><img src=\"https://colab.research.google.com/assets/colab-badge.svg\" alt=\"Open In Colab\"/></a>"
      ]
    },
    {
      "cell_type": "markdown",
      "source": [
        "**Project 4: Rock, paper, scissors Python Project**"
      ],
      "metadata": {
        "id": "F8tvfY6SVXZ3"
      }
    },
    {
      "cell_type": "code",
      "execution_count": 17,
      "metadata": {
        "colab": {
          "base_uri": "https://localhost:8080/"
        },
        "id": "PDU4euTsSbo0",
        "outputId": "1333226d-8e02-4c65-edd5-5c47e2a51cda"
      },
      "outputs": [
        {
          "output_type": "stream",
          "name": "stdout",
          "text": [
            "What's Your Choice? 'r' for rock, 'p' for paper, 's' for scissors:  r\n",
            "You lost!\n"
          ]
        }
      ],
      "source": [
        "import random\n",
        "def play():\n",
        "  user = input(\"What's Your Choice? 'r' for rock, 'p' for paper, 's' for scissors:  \")\n",
        "  computer = random.choice(['r', 'p', 's'] )\n",
        "\n",
        "  if user == computer:\n",
        "    return 'It\\'s a tie'\n",
        "\n",
        "  if is_win(user, computer):\n",
        "    return 'You won!'\n",
        "\n",
        "  return 'You lost!'\n",
        "\n",
        "\n",
        "def is_win(player, opponent):\n",
        "\n",
        "\n",
        "  if(player == 'r' and opponent == 's') or (player == 's' and opponent == 'p') \\\n",
        "  or (player == 'p' and opponent == 'r'):\n",
        "    return True\n",
        "\n",
        "print(play())"
      ]
    }
  ]
}